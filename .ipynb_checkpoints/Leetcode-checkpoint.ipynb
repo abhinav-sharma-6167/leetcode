{
 "cells": [
  {
   "cell_type": "markdown",
   "id": "0b8fef4e",
   "metadata": {},
   "source": [
    "### Easy Rating"
   ]
  },
  {
   "cell_type": "markdown",
   "id": "c6a4776d",
   "metadata": {},
   "source": [
    "#### TwoSums : Indices of which 2 add up to target"
   ]
  },
  {
   "cell_type": "code",
   "execution_count": null,
   "id": "6a9b573f",
   "metadata": {},
   "outputs": [],
   "source": [
    "class Solution:\n",
    "    def twoSum(self, nums: List[int], target: int) -> List[int]:\n",
    "        nums2 = sorted(nums)\n",
    "        idx1=0\n",
    "        idx2=(len(nums)-1)\n",
    "        while(nums2[idx1]+nums2[idx2] != target):\n",
    "            if(nums2[idx1]+nums2[idx2] > target):\n",
    "                idx2-=1\n",
    "                continue\n",
    "            else:\n",
    "                idx1+=1\n",
    "                continue\n",
    "        op_idx1 = min([i for i, j in enumerate(nums) if j == nums2[idx1]])\n",
    "        op_idx2 = max([i for i, j in enumerate(nums) if j == nums2[idx2]])\n",
    "        #print( [op_idx1,op_idx2])    \n",
    "        return [op_idx1,op_idx2]"
   ]
  },
  {
   "cell_type": "markdown",
   "id": "08c5e712",
   "metadata": {},
   "source": [
    "#### Last Stone Weight : Cancel if equal, take difference of max values if unequal and repeat"
   ]
  },
  {
   "cell_type": "code",
   "execution_count": null,
   "id": "f3533952",
   "metadata": {},
   "outputs": [],
   "source": [
    "class Solution:\n",
    "    def lastStoneWeight(self, stones: List[int]) -> int:\n",
    "        idx = len(stones)-1\n",
    "        #print(stones)\n",
    "        while(len(stones)>1):\n",
    "            stones2 = sorted(stones)\n",
    "            #print(idx)\n",
    "            if((stones2[idx] == stones2[idx-1]) and (len(stones2) > 2)):\n",
    "                stones = stones2[0:(idx-1)]\n",
    "                #print(stones)\n",
    "                idx = len(stones)-1\n",
    "            elif((stones2[idx] == stones2[idx-1]) and (len(stones2) == 2)):\n",
    "                \n",
    "                #print(stones)\n",
    "                stones = [0]\n",
    "                #idx = len(stones)-1\n",
    "                \n",
    "            else:\n",
    "\n",
    "                stones = stones2[0:(idx-1)] + [stones2[idx] - stones2[idx-1]]\n",
    "                idx = len(stones)-1\n",
    "                print(stones)\n",
    "            #print(len(stones))\n",
    "                \n",
    "        return stones[0]"
   ]
  },
  {
   "cell_type": "markdown",
   "id": "965675a0",
   "metadata": {},
   "source": [
    "Above solution faster than 6% and takes less space than 22%. Optimal answers below:\n"
   ]
  },
  {
   "cell_type": "markdown",
   "id": "e59413e7",
   "metadata": {},
   "source": [
    "##### HeapQ"
   ]
  },
  {
   "cell_type": "markdown",
   "id": "8aff9f39",
   "metadata": {},
   "source": []
  },
  {
   "cell_type": "code",
   "execution_count": 7,
   "id": "a3ed251d",
   "metadata": {},
   "outputs": [
    {
     "name": "stdout",
     "output_type": "stream",
     "text": [
      "[-1, -800, -2, -3, -4]\n",
      "None\n",
      "800\n",
      "4\n",
      "None\n",
      "796\n",
      "796\n",
      "3\n",
      "2\n",
      "None\n",
      "1\n",
      "1\n"
     ]
    },
    {
     "data": {
      "text/plain": [
       "1"
      ]
     },
     "execution_count": 7,
     "metadata": {},
     "output_type": "execute_result"
    }
   ],
   "source": [
    "stones = [1,800,2,3,4]\n",
    "import heapq\n",
    "\n",
    "def lastStoneWeight(stones):\n",
    "        \n",
    "        # Base Case 1\n",
    "        if len(stones) == 0:\n",
    "            return 0\n",
    "        \n",
    "        # Base Case 2\n",
    "        if len(stones) == 1:\n",
    "            return stones[0]\n",
    "       \n",
    "        # Make a max queue\n",
    "        stones = [s*-1 for s in stones]\n",
    "        print(stones)\n",
    "        heapq.heapify(stones)\n",
    "        print(heapq.heapify(stones))\n",
    "        \n",
    "        # Loop till there is atmost one stone left\n",
    "        while len(stones) > 1:\n",
    "            y = -1*heapq.heappop(stones)\n",
    "            print(y)\n",
    "            x = -1*heapq.heappop(stones)\n",
    "            print(x)\n",
    "            \n",
    "            # result of smash\n",
    "            if x != y:\n",
    "                heapq.heappush(stones, -1*(y-x))\n",
    "                print(heapq.heappush(stones, -1*(y-x)))\n",
    "        \n",
    "        # If no stones left, return 0 else return the last stone\n",
    "        return  -1*heapq.heappop(stones) if len(stones) else 0 \n",
    "lastStoneWeight(stones=stones)"
   ]
  },
  {
   "cell_type": "markdown",
   "id": "eaab426b",
   "metadata": {},
   "source": [
    "##### "
   ]
  },
  {
   "cell_type": "markdown",
   "id": "2f64a09a",
   "metadata": {},
   "source": [
    "#### Plus One : Array to Num to array of digits in num+1"
   ]
  },
  {
   "cell_type": "code",
   "execution_count": null,
   "id": "255d7db4",
   "metadata": {},
   "outputs": [],
   "source": [
    "class Solution:\n",
    "    def plusOne(self, digits: List[int]) -> List[int]:\n",
    "        ld = len(digits)\n",
    "        num=0\n",
    "        for i in range(ld):\n",
    "            num+=(10**(ld-i-1))*digits[i]\n",
    "        num+=1\n",
    "        res = list(map(int, str(num)))\n",
    "        return res"
   ]
  }
 ],
 "metadata": {
  "hide_input": false,
  "kernelspec": {
   "display_name": "Python 3",
   "language": "python",
   "name": "python3"
  },
  "language_info": {
   "codemirror_mode": {
    "name": "ipython",
    "version": 3
   },
   "file_extension": ".py",
   "mimetype": "text/x-python",
   "name": "python",
   "nbconvert_exporter": "python",
   "pygments_lexer": "ipython3",
   "version": "3.8.8"
  },
  "toc": {
   "base_numbering": 1,
   "nav_menu": {},
   "number_sections": true,
   "sideBar": true,
   "skip_h1_title": false,
   "title_cell": "Table of Contents",
   "title_sidebar": "Contents",
   "toc_cell": false,
   "toc_position": {},
   "toc_section_display": true,
   "toc_window_display": false
  },
  "varInspector": {
   "cols": {
    "lenName": 16,
    "lenType": 16,
    "lenVar": 40
   },
   "kernels_config": {
    "python": {
     "delete_cmd_postfix": "",
     "delete_cmd_prefix": "del ",
     "library": "var_list.py",
     "varRefreshCmd": "print(var_dic_list())"
    },
    "r": {
     "delete_cmd_postfix": ") ",
     "delete_cmd_prefix": "rm(",
     "library": "var_list.r",
     "varRefreshCmd": "cat(var_dic_list()) "
    }
   },
   "types_to_exclude": [
    "module",
    "function",
    "builtin_function_or_method",
    "instance",
    "_Feature"
   ],
   "window_display": false
  }
 },
 "nbformat": 4,
 "nbformat_minor": 5
}
