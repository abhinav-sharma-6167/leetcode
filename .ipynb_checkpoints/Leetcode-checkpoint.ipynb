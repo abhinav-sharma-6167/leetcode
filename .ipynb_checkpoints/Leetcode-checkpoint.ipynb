{
 "cells": [
  {
   "cell_type": "markdown",
   "id": "8c003fbb",
   "metadata": {},
   "source": [
    "### Easy Rating"
   ]
  },
  {
   "cell_type": "markdown",
   "id": "d898b437",
   "metadata": {},
   "source": [
    "#### TwoSums : Indices of which 2 add up to target"
   ]
  },
  {
   "cell_type": "code",
   "execution_count": null,
   "id": "a35acc16",
   "metadata": {},
   "outputs": [],
   "source": [
    "class Solution:\n",
    "    def twoSum(self, nums: List[int], target: int) -> List[int]:\n",
    "        nums2 = sorted(nums)\n",
    "        idx1=0\n",
    "        idx2=(len(nums)-1)\n",
    "        while(nums2[idx1]+nums2[idx2] != target):\n",
    "            if(nums2[idx1]+nums2[idx2] > target):\n",
    "                idx2-=1\n",
    "                continue\n",
    "            else:\n",
    "                idx1+=1\n",
    "                continue\n",
    "        op_idx1 = min([i for i, j in enumerate(nums) if j == nums2[idx1]])\n",
    "        op_idx2 = max([i for i, j in enumerate(nums) if j == nums2[idx2]])\n",
    "        #print( [op_idx1,op_idx2])    \n",
    "        return [op_idx1,op_idx2]"
   ]
  },
  {
   "cell_type": "markdown",
   "id": "e518a5a4",
   "metadata": {},
   "source": [
    "#### Last Stone Weight : Cancel if equal, take difference of max values if unequal and repeat"
   ]
  },
  {
   "cell_type": "code",
   "execution_count": null,
   "id": "4bf5ff58",
   "metadata": {},
   "outputs": [],
   "source": [
    "class Solution:\n",
    "    def lastStoneWeight(self, stones: List[int]) -> int:\n",
    "        idx = len(stones)-1\n",
    "        #print(stones)\n",
    "        while(len(stones)>1):\n",
    "            stones2 = sorted(stones)\n",
    "            #print(idx)\n",
    "            if((stones2[idx] == stones2[idx-1]) and (len(stones2) > 2)):\n",
    "                stones = stones2[0:(idx-1)]\n",
    "                #print(stones)\n",
    "                idx = len(stones)-1\n",
    "            elif((stones2[idx] == stones2[idx-1]) and (len(stones2) == 2)):\n",
    "                \n",
    "                #print(stones)\n",
    "                stones = [0]\n",
    "                #idx = len(stones)-1\n",
    "                \n",
    "            else:\n",
    "\n",
    "                stones = stones2[0:(idx-1)] + [stones2[idx] - stones2[idx-1]]\n",
    "                idx = len(stones)-1\n",
    "                print(stones)\n",
    "            #print(len(stones))\n",
    "                \n",
    "        return stones[0]"
   ]
  },
  {
   "cell_type": "markdown",
   "id": "4ff64fd3",
   "metadata": {},
   "source": [
    "Above solution faster than 6% and takes less space than 22%. Optimal answers below:\n"
   ]
  },
  {
   "cell_type": "markdown",
   "id": "cb0a101c",
   "metadata": {},
   "source": [
    "##### HeapQ"
   ]
  },
  {
   "cell_type": "markdown",
   "id": "73607dfc",
   "metadata": {},
   "source": []
  },
  {
   "cell_type": "code",
   "execution_count": 7,
   "id": "7a053048",
   "metadata": {},
   "outputs": [
    {
     "name": "stdout",
     "output_type": "stream",
     "text": [
      "[-1, -800, -2, -3, -4]\n",
      "None\n",
      "800\n",
      "4\n",
      "None\n",
      "796\n",
      "796\n",
      "3\n",
      "2\n",
      "None\n",
      "1\n",
      "1\n"
     ]
    },
    {
     "data": {
      "text/plain": [
       "1"
      ]
     },
     "execution_count": 7,
     "metadata": {},
     "output_type": "execute_result"
    }
   ],
   "source": [
    "stones = [1,800,2,3,4]\n",
    "import heapq\n",
    "\n",
    "def lastStoneWeight(stones):\n",
    "        \n",
    "        # Base Case 1\n",
    "        if len(stones) == 0:\n",
    "            return 0\n",
    "        \n",
    "        # Base Case 2\n",
    "        if len(stones) == 1:\n",
    "            return stones[0]\n",
    "       \n",
    "        # Make a max queue\n",
    "        stones = [s*-1 for s in stones]\n",
    "        print(stones)\n",
    "        heapq.heapify(stones)\n",
    "        print(heapq.heapify(stones))\n",
    "        \n",
    "        # Loop till there is atmost one stone left\n",
    "        while len(stones) > 1:\n",
    "            y = -1*heapq.heappop(stones)\n",
    "            print(y)\n",
    "            x = -1*heapq.heappop(stones)\n",
    "            print(x)\n",
    "            \n",
    "            # result of smash\n",
    "            if x != y:\n",
    "                heapq.heappush(stones, -1*(y-x))\n",
    "                print(heapq.heappush(stones, -1*(y-x)))\n",
    "        \n",
    "        # If no stones left, return 0 else return the last stone\n",
    "        return  -1*heapq.heappop(stones) if len(stones) else 0 \n",
    "lastStoneWeight(stones=stones)"
   ]
  },
  {
   "cell_type": "markdown",
   "id": "13fbee07",
   "metadata": {},
   "source": [
    "##### "
   ]
  },
  {
   "cell_type": "code",
   "execution_count": 10,
   "id": "95eb5080",
   "metadata": {},
   "outputs": [],
   "source": [
    "def lastStoneWeight(stones):\n",
    "        if len(stones) == 1:\n",
    "            return stones[0]\n",
    "        else:\n",
    "            while len(stones) > 1:\n",
    "                s = sorted(stones)\n",
    "                x = s.pop(-1)\n",
    "                print(s)\n",
    "                y = s.pop(-1)\n",
    "                if x != y:\n",
    "                    s.append(x - y)\n",
    "                    print(s)\n",
    "                if s == []:\n",
    "                    return 0\n",
    "                stones = s\n",
    "            return stones[0]"
   ]
  },
  {
   "cell_type": "code",
   "execution_count": 11,
   "id": "34ecfe22",
   "metadata": {},
   "outputs": [
    {
     "name": "stdout",
     "output_type": "stream",
     "text": [
      "[1, 2, 3, 4]\n",
      "[1, 2, 3, 796]\n",
      "[1, 2, 3]\n",
      "[1, 2, 793]\n",
      "[1, 2]\n",
      "[1, 791]\n",
      "[1]\n",
      "[790]\n"
     ]
    },
    {
     "data": {
      "text/plain": [
       "790"
      ]
     },
     "execution_count": 11,
     "metadata": {},
     "output_type": "execute_result"
    }
   ],
   "source": [
    "lastStoneWeight(stones=stones)"
   ]
  },
  {
   "cell_type": "markdown",
   "id": "1d3aac9b",
   "metadata": {},
   "source": [
    "#### Plus One : Array to Num to array of digits in num+1"
   ]
  },
  {
   "cell_type": "code",
   "execution_count": null,
   "id": "d3cb64cf",
   "metadata": {},
   "outputs": [],
   "source": [
    "class Solution:\n",
    "    def plusOne(self, digits: List[int]) -> List[int]:\n",
    "        ld = len(digits)\n",
    "        num=0\n",
    "        for i in range(ld):\n",
    "            num+=(10**(ld-i-1))*digits[i]\n",
    "        num+=1\n",
    "        res = list(map(int, str(num)))\n",
    "        return res"
   ]
  },
  {
   "cell_type": "markdown",
   "id": "6df517be",
   "metadata": {},
   "source": [
    "#### Remove Duplicates : Set"
   ]
  },
  {
   "cell_type": "code",
   "execution_count": null,
   "id": "23912175",
   "metadata": {},
   "outputs": [],
   "source": [
    "class Solution:\n",
    "     def removeDuplicates(self, nums: List[int]) -> int:\n",
    "        nums[:] = sorted(set(nums))\n",
    "        return len(nums)"
   ]
  },
  {
   "cell_type": "markdown",
   "id": "c129aa2d",
   "metadata": {},
   "source": [
    "#### Roman to Numeric"
   ]
  },
  {
   "cell_type": "code",
   "execution_count": null,
   "id": "f579b5ab",
   "metadata": {},
   "outputs": [],
   "source": [
    "class Solution:\n",
    "    def romanToInt(self, s: str) -> int:\n",
    "        c = []\n",
    "        val = 0\n",
    "\n",
    "        for i in range(len(s)):\n",
    "            if(s[i] == 'I'):\n",
    "                c.append(1)\n",
    "            elif(s[i] == 'V'):\n",
    "                c.append(5)\n",
    "            elif(s[i] == 'X'):\n",
    "                cnt.append(10)\n",
    "            elif(s[i] == 'L'):\n",
    "                c.append(50)\n",
    "            elif(s[i] == 'C'):\n",
    "                c.append(100)\n",
    "            elif(s[i] == 'D'):\n",
    "                c.append(500)\n",
    "            elif(s[i] == 'M'):\n",
    "                c.append(1000)\n",
    "    \n",
    "        agg = 0\n",
    "        val = 0\n",
    "\n",
    "                \n",
    "#         op = val - agg\n",
    "        for i in range(len(cnt)-1):\n",
    "            if(c[i] < c[i+1]):\n",
    "                c[i] = -1*c[i]\n",
    "\n",
    "                \n",
    "        \n",
    "            \n",
    "        \n",
    "    \n",
    "    \n",
    "    \n",
    "    \n",
    "    \n",
    "        return sum(c)\n",
    "                \n"
   ]
  },
  {
   "cell_type": "markdown",
   "id": "e387936b",
   "metadata": {},
   "source": [
    "#### "
   ]
  },
  {
   "cell_type": "code",
   "execution_count": 1,
   "id": "0a14c837",
   "metadata": {},
   "outputs": [],
   "source": [
    "class Solution:\n",
    "    def isValid(self, s: str) -> bool:\n",
    "        c=1\n",
    "        while c>0:\n",
    "            c=0\n",
    "            if '[]' in s:\n",
    "                s = s.replace('[]','')\n",
    "                c+=1\n",
    "            if '()' in s:\n",
    "                s = s.replace('()','')\n",
    "                c+=1\n",
    "            if '{}' in s:\n",
    "                s = s.replace('{}','')\n",
    "                c+=1\n",
    "\n",
    "        print(s)\n",
    "        if len(s)>0:\n",
    "            return False\n",
    "        else:\n",
    "            return True"
   ]
  },
  {
   "cell_type": "markdown",
   "id": "e7e21701",
   "metadata": {},
   "source": [
    "##### Stack formulation"
   ]
  },
  {
   "cell_type": "code",
   "execution_count": 5,
   "id": "81269173",
   "metadata": {
    "scrolled": true
   },
   "outputs": [
    {
     "data": {
      "text/plain": [
       "[0, 1, 2]"
      ]
     },
     "execution_count": 5,
     "metadata": {},
     "output_type": "execute_result"
    }
   ],
   "source": [
    "class Solution(object):\n",
    "    def isValid(self, s):\n",
    "        \"\"\"\n",
    "        :type s: str\n",
    "        :rtype: bool\n",
    "        \"\"\"\n",
    "        d = {'(':')', '{':'}','[':']'}\n",
    "        stack = []\n",
    "        for i in s:\n",
    "            if i in d:  # 1\n",
    "                stack.append(i)\n",
    "            elif len(stack) == 0 or d[stack.pop()] != i:  # 2\n",
    "                return False\n",
    "        return len(stack) == 0 # 3\n",
    "\n",
    "# 1. if it's the left bracket then we append it to the stack\n",
    "# 2. else if it's the right bracket and the stack is empty(meaning no matching left bracket), or the left bracket doesn't match\n",
    "# 3. finally check if the stack still contains unmatched left bracket"
   ]
  },
  {
   "cell_type": "markdown",
   "id": "73cefbdf",
   "metadata": {},
   "source": [
    "#### House Robber partial solution"
   ]
  },
  {
   "cell_type": "code",
   "execution_count": 8,
   "id": "ec15cafc",
   "metadata": {},
   "outputs": [],
   "source": [
    "class Solution:\n",
    "    def rob(self, nums2):\n",
    "        sum_1 = 0\n",
    "        nums2 = nums.copy()\n",
    "        while(len(nums)>=2):\n",
    "            max_ = max(nums)\n",
    "            idx = nums.index(max_)\n",
    "            sum_1+=max_\n",
    "            print('sum_1------------------------')\n",
    "            print(idx,len(nums),max_,sum_1,nums)\n",
    "            if(idx == len(nums)-1):\n",
    "                nums.pop(idx)\n",
    "                nums[idx-1]=0\n",
    "\n",
    "            elif(idx == 0):\n",
    "                nums[idx+1]=0\n",
    "                nums.pop(idx)\n",
    "                \n",
    "            elif(idx > 0):\n",
    "                nums[idx+1]=0\n",
    "\n",
    "                nums.pop(idx)\n",
    "\n",
    "                nums[idx-1]=0\n",
    "                \n",
    "        if(len(nums) > 0 ):\n",
    "            max_ = max(nums)\n",
    "            sum_1+=max_\n",
    "            print('Last Sum1',len(nums),max_,sum_1,nums)\n",
    "\n",
    "        \n",
    "        \n",
    "        \n",
    "        \n",
    "        sum_2 = 0\n",
    "        nums=nums2.copy()\n",
    "        max_ = max(nums)\n",
    "        idx = nums.index(max_)\n",
    "        nums[idx]=0\n",
    "        \n",
    "        while(len(nums)>=2):\n",
    "            max_ = max(nums)\n",
    "            idx = nums.index(max_)\n",
    "            sum_2+=max_\n",
    "            print('sum_2------------------------')\n",
    "            print(idx,len(nums),max_,sum_2,nums)\n",
    "            if(idx == len(nums)-1):\n",
    "                nums.pop(idx)\n",
    "                nums[idx-1]=0\n",
    "\n",
    "            elif(idx == 0):\n",
    "                nums[idx+1]=0\n",
    "                nums.pop(idx)\n",
    "                \n",
    "            elif(idx > 0):\n",
    "                nums[idx+1]=0\n",
    "\n",
    "                nums.pop(idx)\n",
    "\n",
    "                nums[idx-1]=0\n",
    "                \n",
    "        if(len(nums) > 0 ):\n",
    "            max_ = max(nums)\n",
    "            sum_2+=max_\n",
    "            print('sum_2--last-----------')\n",
    "            print(idx,len(nums),max_,sum_1,nums)\n",
    "\n",
    "        \n",
    "\n",
    "                \n",
    "        print(sum_1,sum_2)\n",
    "            \n",
    "        return max(sum_1,sum_2)\n",
    "            \n",
    "            \n",
    "            \n",
    "            \n",
    "        \n",
    "        \n",
    "        "
   ]
  },
  {
   "cell_type": "markdown",
   "id": "7fa4c018",
   "metadata": {},
   "source": [
    "##### Dynamic Programming based solution"
   ]
  },
  {
   "cell_type": "code",
   "execution_count": 7,
   "id": "f9cbfe87",
   "metadata": {},
   "outputs": [],
   "source": [
    "class Solution:\n",
    "    def rob(self, nums) :\n",
    "        if len(nums) == 1:\n",
    "            return nums[0]\n",
    "        else:\n",
    "            second = nums[0]\n",
    "            first = max(nums[0], nums[1])\n",
    "            print(first,second)\n",
    "            \n",
    "            for i in range(2,len(nums)):\n",
    "                current = max(first, second + nums[i])\n",
    "                second = first\n",
    "                first = current\n",
    "                print('i is -------------',i)\n",
    "                print(current,first,second)\n",
    "                \n",
    "            return first"
   ]
  },
  {
   "cell_type": "markdown",
   "id": "f0637714",
   "metadata": {},
   "source": [
    "#### Sum of squares being 1"
   ]
  },
  {
   "cell_type": "code",
   "execution_count": null,
   "id": "bbf0b54c",
   "metadata": {},
   "outputs": [],
   "source": [
    "class Solution:\n",
    "    def isHappy(self, n: int) -> bool:\n",
    "        sum_ = 2\n",
    "        count = 0\n",
    "        op = 1\n",
    "        while((n != 1) and (count <= 11)):\n",
    "            n = str(n)\n",
    "            n_ = [int(x) for x in n]\n",
    "            #print(n_)\n",
    "            n_ = [x**2 for x in n_]\n",
    "            n = sum(n_)\n",
    "            count+=1\n",
    "            print(n,count)\n",
    "            if(count >= 10):\n",
    "                op = 0\n",
    "            \n",
    "        \n",
    "        return op"
   ]
  },
  {
   "cell_type": "markdown",
   "id": "88d68e41",
   "metadata": {},
   "source": [
    "#### Maximum Sub array"
   ]
  },
  {
   "cell_type": "code",
   "execution_count": null,
   "id": "116b74c2",
   "metadata": {},
   "outputs": [],
   "source": [
    "class Solution:\n",
    "    def maxSubArray(self, nums: List[int]) -> int:\n",
    "        sum_ = sum(nums)\n",
    "        sum_2 = 0\n",
    "        arr=[]\n",
    "        if(len(nums)==1):\n",
    "            return nums[0]\n",
    "        else:\n",
    "            for i in range(len(nums)):\n",
    "                for j in range(len(nums)+1):\n",
    "                    if(i>j):\n",
    "                        continue\n",
    "                    if(i==j):\n",
    "                        arr.append(nums[i])\n",
    "                    else:\n",
    "                        #print('Nums ',i,j,'------------------')\n",
    "                        # max_ = max(i,j)\n",
    "                        # min_ = min(i,j)\n",
    "                        k = sum(nums[i:j])\n",
    "                        s = set(arr)\n",
    "                        if (k not in s):\n",
    "                            arr.append(k)\n",
    "                        #print(arr)\n",
    "\n",
    "\n",
    "            return max(sum_,max(arr))\n",
    "\n",
    "\n",
    "\n",
    "            \n",
    "        "
   ]
  },
  {
   "cell_type": "markdown",
   "id": "3a5f8539",
   "metadata": {},
   "source": [
    "#### Maximum Sub array - DP based"
   ]
  },
  {
   "cell_type": "code",
   "execution_count": null,
   "id": "a772e8e2",
   "metadata": {},
   "outputs": [],
   "source": [
    "class Solution:\n",
    "    def maxSubArray(self, nums: List[int]) -> int:\n",
    "        max_global = max_current = nums[0]\n",
    "        \n",
    "        for i in range(1, len(nums)):\n",
    "            max_current = max(nums[i], max_current + nums[i])\n",
    "            if max_current > max_global:\n",
    "                max_global = max_current\n",
    "        return max_global"
   ]
  },
  {
   "cell_type": "markdown",
   "id": "211f7016",
   "metadata": {},
   "source": [
    "#### Google Find peak element"
   ]
  },
  {
   "cell_type": "code",
   "execution_count": null,
   "id": "7d886b6f",
   "metadata": {},
   "outputs": [],
   "source": [
    "class Solution:\n",
    "    def findPeakElement(self, nums: List[int]) -> int:\n",
    "        #max_current =  max_peak = nums[0]\n",
    "        ans=[]\n",
    "        if(len(nums)>2):\n",
    "            for i in range(1,len(nums)-1):\n",
    "                if((nums[i] > nums[i-1]) and (nums[i] > nums[i+1])):\n",
    "                    ans.append(i)\n",
    "            if(len(ans)>0):\n",
    "                return ans[0]\n",
    "            else:\n",
    "                max_value = max(nums)\n",
    "                max_index = nums.index(max_value)\n",
    "                return max_index\n",
    "        else:\n",
    "            if(len(nums)==1):\n",
    "                return 0\n",
    "            else:\n",
    "                max_value = max(nums)\n",
    "                max_index = nums.index(max_value)\n",
    "                return max_index"
   ]
  },
  {
   "cell_type": "markdown",
   "id": "2f1c6b55",
   "metadata": {},
   "source": [
    "##### Another solution"
   ]
  },
  {
   "cell_type": "code",
   "execution_count": null,
   "id": "2d93d233",
   "metadata": {},
   "outputs": [],
   "source": []
  },
  {
   "cell_type": "markdown",
   "id": "5545ff73",
   "metadata": {},
   "source": [
    "#### Google Repeated Substring"
   ]
  },
  {
   "cell_type": "code",
   "execution_count": null,
   "id": "b9fbd6b9",
   "metadata": {},
   "outputs": [],
   "source": [
    "class Solution:\n",
    "    def repeatedSubstringPattern(self, s: str) -> bool:\n",
    "        int_ = 0\n",
    "        for i in range(1,len(s)):\n",
    "            #print(i)\n",
    "            if(len(s) % i == 0):\n",
    "                x = list(map(''.join, zip(*[iter(s)]*i)))\n",
    "                #print(x)\n",
    "                #print(x.count(x[0]))\n",
    "                #print(len(x))\n",
    "                print(int_)\n",
    "                if(x.count(x[0]) == len(x)):\n",
    "                    int_+=1\n",
    "                    print(int_)\n",
    "                else:\n",
    "                    continue\n",
    "                    print(int_)\n",
    "            else:\n",
    "                continue\n",
    "                print(int_)\n",
    "                \n",
    "        if(int_ > 0):\n",
    "            k = int_ \n",
    "        else : \n",
    "            k = 0\n",
    "            \n",
    "        return k"
   ]
  },
  {
   "cell_type": "markdown",
   "id": "74413d78",
   "metadata": {},
   "source": [
    "#### Google Check Record Substring"
   ]
  },
  {
   "cell_type": "markdown",
   "id": "55e42a5f",
   "metadata": {},
   "source": [
    "class Solution:\n",
    "    def checkRecord(self, s: str) -> bool:\n",
    "        s_ = list(map(''.join,zip(*[iter(s)]*1)))\n",
    "        #s_set = set(s)\n",
    "        s_set = sorted(list(set(s_)))\n",
    "        \n",
    "        #print(s_,s_set)\n",
    "        int_=0\n",
    "        if(s_set[0]=='A'):\n",
    "            if((s_.count((s_set)[0]) < 2) and ('LLL' not in s)):\n",
    "                int_+=1\n",
    "        else:\n",
    "            if('LLL' not in s):\n",
    "                int_+=1\n",
    "                \n",
    "\n",
    "                \n",
    "        \n",
    "        return int_"
   ]
  },
  {
   "cell_type": "markdown",
   "id": "244adbcd",
   "metadata": {},
   "source": [
    "You are given a network of n nodes, labeled from 1 to n. You are also given times, a list of travel times as directed edges times[i] = (ui, vi, wi), where ui is the source node, vi is the target node, and wi is the time it takes for a signal to travel from source to target.\n",
    "\n",
    "We will send a signal from a given node k. Return the time it takes for all the n nodes to receive the signal. If it is impossible for all the n nodes to receive the signal, return -1"
   ]
  },
  {
   "cell_type": "code",
   "execution_count": null,
   "id": "d4bd6e3f",
   "metadata": {},
   "outputs": [],
   "source": []
  },
  {
   "cell_type": "code",
   "execution_count": null,
   "id": "a081d183",
   "metadata": {},
   "outputs": [],
   "source": []
  },
  {
   "cell_type": "code",
   "execution_count": null,
   "id": "053ac6e0",
   "metadata": {},
   "outputs": [],
   "source": []
  },
  {
   "cell_type": "markdown",
   "id": "bac43db5",
   "metadata": {},
   "source": [
    "#### Majority Element"
   ]
  },
  {
   "cell_type": "code",
   "execution_count": null,
   "id": "d6a9b377",
   "metadata": {},
   "outputs": [],
   "source": [
    "class Solution:\n",
    "    def majorityElement(self, nums: List[int]) -> int:\n",
    "        k=[]\n",
    "        for i in range(len(nums)):\n",
    "            k.append(nums.count(nums[i]))\n",
    "        if(max(k) > int(len(nums)/2)):\n",
    "            return nums[k.index(max(k))]\n",
    "            "
   ]
  },
  {
   "cell_type": "markdown",
   "id": "f1f5b331",
   "metadata": {},
   "source": [
    "#### Majority Element - O(n) solution"
   ]
  },
  {
   "cell_type": "code",
   "execution_count": null,
   "id": "ee078dbf",
   "metadata": {},
   "outputs": [],
   "source": [
    "def majorityElement(self, nums: List[int]) -> int:\n",
    "    return max(set(nums), key = nums.count)"
   ]
  },
  {
   "cell_type": "markdown",
   "id": "6dfab17a",
   "metadata": {},
   "source": [
    "#### Bit Manipulations"
   ]
  },
  {
   "cell_type": "code",
   "execution_count": null,
   "id": "63635537",
   "metadata": {},
   "outputs": [],
   "source": [
    "class Solution:\n",
    "    def getSum(self, a: int, b: int) -> int:\n",
    "        carry = 0\n",
    "        mask = 0xffffffff\n",
    "        while b & mask != 0:\n",
    "            carry = (a & b) << 1\n",
    "            a = a ^ b\n",
    "            b = carry\n",
    "\n",
    "        # for overflow condition like\n",
    "        # -1\n",
    "        #  1\n",
    "        return a&mask if b > mask else a\n",
    "        "
   ]
  },
  {
   "cell_type": "markdown",
   "id": "9f7f040b",
   "metadata": {},
   "source": [
    "#### Max Consecutive Ones"
   ]
  },
  {
   "cell_type": "code",
   "execution_count": null,
   "id": "162c21ee",
   "metadata": {},
   "outputs": [],
   "source": [
    "class Solution:\n",
    "    def findMaxConsecutiveOnes(self, nums: List[int]) -> int:\n",
    "        ct_arr = []\n",
    "        ct = 1\n",
    "        if(len(nums)==1):\n",
    "            return nums[0]\n",
    "        else:\n",
    "            for i in range(1,len(nums)):\n",
    "                #print(nums[i])\n",
    "                if(nums[i-1]==nums[i] and nums[i-1] == 1):\n",
    "                    ct+=1\n",
    "                elif(nums[i-1] == 0 and nums[i] == 1):\n",
    "                    ct=1\n",
    "                elif(nums[i-1] == 0 and nums[i] == 0):\n",
    "                    ct=0\n",
    "                ct_arr.append(ct)\n",
    "                #print(i,ct,ct_arr)\n",
    "            \n",
    "            \n",
    "        return max(ct_arr)"
   ]
  },
  {
   "cell_type": "code",
   "execution_count": null,
   "id": "1e931d4f",
   "metadata": {},
   "outputs": [],
   "source": [
    "class Solution:\n",
    "    def findMaxConsecutiveOnes(self, nums: List[int]) -> int:\n",
    "        max_ones = cur_ones = 0  # variable for current and longest sequences\n",
    "        \n",
    "        for el in (nums + [0]):\n",
    "            if el == 1:\n",
    "                cur_ones += 1  # if we encounter 1, we increase `current` counter by 1\n",
    "            else:\n",
    "                max_ones = max(max_ones, cur_ones)  # compare lengths of two sequences\n",
    "                cur_ones = 0  # and assigning 0 to `current`\n",
    "                \n",
    "        return max_ones"
   ]
  },
  {
   "cell_type": "markdown",
   "id": "44ed0782",
   "metadata": {},
   "source": [
    "#### 3Sum with time limit exceeded"
   ]
  },
  {
   "cell_type": "code",
   "execution_count": null,
   "id": "70511f3f",
   "metadata": {},
   "outputs": [],
   "source": [
    "class Solution:\n",
    "    def threeSum(self, nums: List[int]) -> List[List[int]]:\n",
    "        l = len(nums)\n",
    "        op = []\n",
    "        for i in range(l):\n",
    "            for j in range(i,l):\n",
    "                for k in range(j,l):\n",
    "                    #print(nums[i],nums[j],nums[k])\n",
    "                    if(nums[i]+nums[j]+nums[k]==0 ):\n",
    "                        if( i<j and j<k and sorted([nums[i],nums[j],nums[k]]) not in op):\n",
    "                            #print(i,j,k,nums[i],nums[j],nums[k])\n",
    "                            op.append(sorted([nums[i],nums[j],nums[k]]))\n",
    "                            \n",
    "        return (op)"
   ]
  },
  {
   "cell_type": "markdown",
   "id": "db84ad6d",
   "metadata": {},
   "source": [
    "#### 3Sum with two pointers method"
   ]
  },
  {
   "cell_type": "code",
   "execution_count": null,
   "id": "62aebaef",
   "metadata": {},
   "outputs": [],
   "source": [
    "class Solution:\n",
    "    def threeSum(self, nums: List[int]) -> List[List[int]]:\n",
    "        if len(nums) <= 2:\n",
    "            return []\n",
    "        nums.sort()\n",
    "        l,r = 0, len(nums) -1\n",
    "        n = l+1\n",
    "        \n",
    "        result = []\n",
    "        for n in range(len(nums)):\n",
    "            l,r = n+1, len(nums) - 1 \n",
    "\n",
    "            while l < r:\n",
    "                if nums[r] < 0:\n",
    "                    return result\n",
    "                if nums[l] + nums[n] + nums[r] == 0:\n",
    "                    res = [nums[n],nums[l],nums[r]]\n",
    "\n",
    "                    # prevent duplicates\n",
    "                    if res not in result:\n",
    "                        result.append(res)\n",
    "                    l += 1\n",
    "                elif nums[l] + nums[n] + nums[r] > 0:\n",
    "                    r -= 1\n",
    "                else:\n",
    "                    l += 1\n",
    "            \n",
    "        return result  "
   ]
  },
  {
   "cell_type": "markdown",
   "id": "bd63c2f5",
   "metadata": {},
   "source": [
    "#### Min ABs Sum Diff upon 1 replacement - half test cases"
   ]
  },
  {
   "cell_type": "code",
   "execution_count": null,
   "id": "25eb1d32",
   "metadata": {},
   "outputs": [],
   "source": [
    "class Solution:\n",
    "    def minAbsoluteSumDiff(self, nums1: List[int], nums2: List[int]) -> int:\n",
    "        lst1 = [abs(x-y) for x , y in zip(nums1,nums2)]\n",
    "        #print(lst1)\n",
    "        idx1 = lst1.index(max(lst1))\n",
    "        print(idx1)\n",
    "        t = nums2[idx1]\n",
    "        print(t)\n",
    "        lst2 = [abs(x-t) for x in nums1 ]\n",
    "        lst2[idx1] = 100000\n",
    "        #print(lst2)\n",
    "        if(sum(lst1)==0):\n",
    "            return 0\n",
    "        else:\n",
    "            idx2 = lst2.index(min(lst2))\n",
    "            print(idx2)\n",
    "            print('OUTPUT_________')\n",
    "            #nums1[idx1] = nums1[idx2]\n",
    "            op = sum(lst1) - abs(nums1[idx1]-nums2[idx1]) + abs(nums1[idx2]-nums2[idx1])\n",
    "            print(op)\n",
    "\n",
    "\n",
    "\n",
    "        \n",
    "        return op\n",
    "        "
   ]
  },
  {
   "cell_type": "markdown",
   "id": "0b5bf02e",
   "metadata": {},
   "source": [
    "#### Min ABs Sum Diff upon 1 replacement - half test cases"
   ]
  },
  {
   "cell_type": "code",
   "execution_count": null,
   "id": "e5f230cf",
   "metadata": {},
   "outputs": [],
   "source": []
  },
  {
   "cell_type": "code",
   "execution_count": null,
   "id": "a6316f25",
   "metadata": {},
   "outputs": [],
   "source": []
  },
  {
   "cell_type": "markdown",
   "id": "0366f516",
   "metadata": {},
   "source": [
    "### DP"
   ]
  },
  {
   "cell_type": "markdown",
   "id": "db936fa5",
   "metadata": {},
   "source": [
    "#### Tribonacci"
   ]
  },
  {
   "cell_type": "code",
   "execution_count": null,
   "id": "79928543",
   "metadata": {},
   "outputs": [],
   "source": [
    "class Solution:\n",
    "\tdef tribonacci(self, n: int, dct={}) -> int:\n",
    "\t\tif n <= 1:\n",
    "\t\t\treturn n\n",
    "\t\tif n == 2:\n",
    "\t\t\treturn 1\n",
    "\n",
    "\t\tif n in dct:\n",
    "\t\t\treturn dct[n]\n",
    "\n",
    "\t\telse:\n",
    "\t\t\tdct[n] = self.tribonacci(n - 1, dct) + self.tribonacci(n - 2, dct) + self.tribonacci(n - 3, dct)\n",
    "\t\t\treturn dct[n]"
   ]
  },
  {
   "cell_type": "markdown",
   "id": "1fece904",
   "metadata": {},
   "source": [
    "#### Min Cost Climbing stairs"
   ]
  },
  {
   "cell_type": "code",
   "execution_count": null,
   "id": "f094e1d0",
   "metadata": {},
   "outputs": [],
   "source": [
    "class Solution:\n",
    "    def minCostClimbingStairs(self, cost: List[int]) -> int:        \n",
    "        down_one = down_two = 0\n",
    "        for i in range(2, len(cost) + 1):\n",
    "            temp = down_one\n",
    "            down_one = min(down_one + cost[i - 1], down_two + cost[i - 2])\n",
    "            down_two = temp\n",
    "\n",
    "        return down_one\n",
    "        \n",
    "        "
   ]
  },
  {
   "cell_type": "markdown",
   "id": "2c4d4ca6",
   "metadata": {},
   "source": [
    "#### House Robber - top down\n"
   ]
  },
  {
   "cell_type": "code",
   "execution_count": null,
   "id": "ad481161",
   "metadata": {},
   "outputs": [],
   "source": [
    "class Solution:\n",
    "    def rob(self, nums: List[int]) -> int:\n",
    "        def dp(i):\n",
    "            # Base cases\n",
    "            if i == 0: \n",
    "                return nums[0]            \n",
    "            if i == 1: \n",
    "                return max(nums[0], nums[1])            \n",
    "            if i not in memo:\n",
    "                memo[i] = max(dp(i - 1), dp(i - 2) + nums[i]) # Recurrence relation\n",
    "            return memo[i]\n",
    "        \n",
    "        memo = {}\n",
    "        return dp(len(nums) - 1)"
   ]
  },
  {
   "cell_type": "markdown",
   "id": "d915bee0",
   "metadata": {},
   "source": [
    "#### House Robber - bottom up\n"
   ]
  },
  {
   "cell_type": "code",
   "execution_count": null,
   "id": "1d9d3120",
   "metadata": {},
   "outputs": [],
   "source": [
    "class Solution:\n",
    "    def rob(self, nums: List[int]) -> int:\n",
    "        if len(nums) == 1: \n",
    "            return nums[0]\n",
    "        \n",
    "        dp = [0] * len(nums)\n",
    "        \n",
    "        # Base cases\n",
    "        dp[0] = nums[0]\n",
    "        dp[1] = max(nums[0], nums[1])\n",
    "        \n",
    "        for i in range(2, len(nums)):\n",
    "            dp[i] = max(dp[i - 1], dp[i - 2] + nums[i]) # Recurrence relation\n",
    "        \n",
    "        return dp[-1]"
   ]
  },
  {
   "cell_type": "markdown",
   "id": "cbd3502e",
   "metadata": {},
   "source": [
    "#### Longest Common Subsequence"
   ]
  },
  {
   "cell_type": "code",
   "execution_count": null,
   "id": "23047f67",
   "metadata": {},
   "outputs": [],
   "source": [
    "class Solution:\n",
    "    def longestCommonSubsequence(self, text1: str, text2: str) -> int:\n",
    "        \n",
    "        # Make a grid of 0's with len(text2) + 1 columns \n",
    "        # and len(text1) + 1 rows.\n",
    "        dp_grid = [[0] * (len(text2) + 1) for _ in range(len(text1) + 1)]\n",
    "        \n",
    "        # Iterate up each column, starting from the last one.\n",
    "        for col in reversed(range(len(text2))):\n",
    "            for row in reversed(range(len(text1))):\n",
    "                # If the corresponding characters for this cell are the same...\n",
    "                if text2[col] == text1[row]:\n",
    "                    dp_grid[row][col] = 1 + dp_grid[row + 1][col + 1]\n",
    "                # Otherwise they must be different...\n",
    "                else:\n",
    "                    dp_grid[row][col] = max(dp_grid[row + 1][col], dp_grid[row][col + 1])\n",
    "        \n",
    "        # The original problem's answer is in dp_grid[0][0]. Return it.\n",
    "        return dp_grid[0][0]"
   ]
  },
  {
   "cell_type": "markdown",
   "id": "b4b5e8f8",
   "metadata": {},
   "source": [
    "#### No ways climbing stairs"
   ]
  },
  {
   "cell_type": "code",
   "execution_count": null,
   "id": "510bb0b5",
   "metadata": {},
   "outputs": [],
   "source": [
    "class Solution:\n",
    "    def climbStairs(self, n: int) -> int:\n",
    "        a, b = 1, 1\n",
    "        for i in range(n-1):\n",
    "            tmp = a\n",
    "            a = a + b\n",
    "            b = tmp\n",
    "        return a"
   ]
  },
  {
   "cell_type": "code",
   "execution_count": null,
   "id": "567ca79d",
   "metadata": {},
   "outputs": [],
   "source": []
  },
  {
   "cell_type": "code",
   "execution_count": null,
   "id": "16423482",
   "metadata": {},
   "outputs": [],
   "source": []
  },
  {
   "cell_type": "code",
   "execution_count": null,
   "id": "5871eaae",
   "metadata": {},
   "outputs": [],
   "source": []
  },
  {
   "cell_type": "code",
   "execution_count": null,
   "id": "ad44dc3a",
   "metadata": {},
   "outputs": [],
   "source": [
    "ip = '1a3b4c'\n",
    "ip = ip + 'E'\n",
    "ls = [len(ip)]\n",
    "str_ = ''\n",
    "for i in range(len(ip)):\n",
    "    if i not in ls:\n",
    "        if ip[i].isdigit():\n",
    "            tmp = ip[i]\n",
    "            while(ip[i+1].isdigit()):\n",
    "                tmp = 10*ip[i]+ip[i+1]\n",
    "                \n",
    "                i+=1\n",
    "                ls.append(i)\n",
    "                print(tmp,i,ls)\n",
    "            str_ += ip[i+1]*int(tmp)\n",
    "    else:\n",
    "        continue\n",
    "        \n",
    "print(str_)\n",
    "            \n",
    "        \n",
    "        "
   ]
  },
  {
   "cell_type": "code",
   "execution_count": null,
   "id": "60485e0a",
   "metadata": {},
   "outputs": [],
   "source": [
    "ip = '3[A]2[3[B]]C'"
   ]
  },
  {
   "cell_type": "code",
   "execution_count": 50,
   "id": "0ffae290",
   "metadata": {},
   "outputs": [],
   "source": [
    "# Python3 implementation of the approach\n",
    " \n",
    "# Function to expand and print the given string\n",
    "\n",
    "def expandString(strin):\n",
    "     \n",
    "    temp = \"\"\n",
    "    str_ = ''\n",
    "    j = 0\n",
    "    i = 0\n",
    "    while(i < len(strin)):\n",
    "        if (strin[i] >= \"0\"):\n",
    "             \n",
    "            # Subtract '0' to convert char to int\n",
    "            num = ord(strin[i])-ord(\"0\")\n",
    "            if (strin[i + 1] == '['):\n",
    "                 \n",
    "                # Characters within brackets\n",
    "                j = i + 1\n",
    "                while(strin[j] != ']'):\n",
    "                    if ((strin[j] >= 'a' and strin[j] <= 'z') or \\\n",
    "                        (strin[j] >= 'A' and strin[j] <= 'Z')):\n",
    "                        temp += strin[j]\n",
    "                    j += 1\n",
    "                     \n",
    "                # Expanding\n",
    "                \n",
    "                for k in range(1, num + 1):\n",
    "                    #print(temp,end=\"\")\n",
    "                    str_+=temp\n",
    "                                     # Reset the variables\n",
    "                num = 0\n",
    "                temp = \"\"\n",
    "                if (j < len(strin)):\n",
    "                    i = j\n",
    "        i += 1\n",
    "        return str_\n",
    "        \n",
    " \n"
   ]
  },
  {
   "cell_type": "code",
   "execution_count": 53,
   "id": "d6be9cab",
   "metadata": {},
   "outputs": [
    {
     "data": {
      "text/plain": [
       "'AAAA'"
      ]
     },
     "execution_count": 53,
     "metadata": {},
     "output_type": "execute_result"
    }
   ],
   "source": [
    "#Driver code\n",
    "strin = \"4[A]\"\n",
    "expandString(strin)"
   ]
  },
  {
   "cell_type": "code",
   "execution_count": null,
   "id": "8fbf9b8a",
   "metadata": {},
   "outputs": [],
   "source": []
  },
  {
   "cell_type": "code",
   "execution_count": null,
   "id": "e4e4d618",
   "metadata": {},
   "outputs": [],
   "source": []
  },
  {
   "cell_type": "code",
   "execution_count": 65,
   "id": "e4629e6f",
   "metadata": {},
   "outputs": [],
   "source": [
    "import re\n",
    "strin = \"10[A]2[3[B]]C\""
   ]
  },
  {
   "cell_type": "code",
   "execution_count": 66,
   "id": "2eca868c",
   "metadata": {},
   "outputs": [],
   "source": [
    "idx1 = re.search(r'[0-9]+\\[[A-C]\\]', strin).start()\n",
    "idx2 = re.search(r'[0-9]+\\[[A-C]\\]', strin).end()\n"
   ]
  },
  {
   "cell_type": "code",
   "execution_count": 73,
   "id": "2fb6a3da",
   "metadata": {
    "scrolled": false
   },
   "outputs": [
    {
     "name": "stdout",
     "output_type": "stream",
     "text": [
      "AAAAAAAAAABBBBBBC\n"
     ]
    }
   ],
   "source": [
    "import re\n",
    "def num_there(s):\n",
    "    return any(i.isdigit() for i in s)\n",
    "\n",
    "while(num_there(strin)):\n",
    "#     strin = re.sub(^[0-9]+\\[[A-C]\\]$, repl, string, count=0, flags=0\n",
    "    \n",
    "    idx1 = re.search('[0-9]+\\[[A-C]+\\]', strin).start()\n",
    "    \n",
    "    idx2 = re.search('[0-9]+\\[[A-C]+\\]', strin).end()\n",
    "    \n",
    "    m = strin[idx1:idx2]\n",
    "    n = re.findall('(\\w+)\\[', m)\n",
    "    n.extend(re.findall('(\\w+)\\]', m))\n",
    "    str_rep = n[1] * int(n[0])\n",
    "    #print(str_rep)\n",
    "\n",
    "    strin = strin.replace(str(m), str(str_rep))\n",
    "    # String after replacement\n",
    "    print(strin)\n",
    "    \n",
    "    \n",
    "\n"
   ]
  },
  {
   "cell_type": "code",
   "execution_count": null,
   "id": "0a03c6b2",
   "metadata": {},
   "outputs": [],
   "source": []
  }
 ],
 "metadata": {
  "hide_input": false,
  "kernelspec": {
   "display_name": "Python 3",
   "language": "python",
   "name": "python3"
  },
  "language_info": {
   "codemirror_mode": {
    "name": "ipython",
    "version": 3
   },
   "file_extension": ".py",
   "mimetype": "text/x-python",
   "name": "python",
   "nbconvert_exporter": "python",
   "pygments_lexer": "ipython3",
   "version": "3.8.8"
  },
  "toc": {
   "base_numbering": 1,
   "nav_menu": {},
   "number_sections": true,
   "sideBar": true,
   "skip_h1_title": false,
   "title_cell": "Table of Contents",
   "title_sidebar": "Contents",
   "toc_cell": false,
   "toc_position": {},
   "toc_section_display": true,
   "toc_window_display": false
  },
  "varInspector": {
   "cols": {
    "lenName": 16,
    "lenType": 16,
    "lenVar": 40
   },
   "kernels_config": {
    "python": {
     "delete_cmd_postfix": "",
     "delete_cmd_prefix": "del ",
     "library": "var_list.py",
     "varRefreshCmd": "print(var_dic_list())"
    },
    "r": {
     "delete_cmd_postfix": ") ",
     "delete_cmd_prefix": "rm(",
     "library": "var_list.r",
     "varRefreshCmd": "cat(var_dic_list()) "
    }
   },
   "types_to_exclude": [
    "module",
    "function",
    "builtin_function_or_method",
    "instance",
    "_Feature"
   ],
   "window_display": false
  }
 },
 "nbformat": 4,
 "nbformat_minor": 5
}
